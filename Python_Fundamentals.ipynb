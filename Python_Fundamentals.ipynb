{
 "cells": [
  {
   "cell_type": "code",
   "execution_count": 3,
   "id": "fbabe4ca-b8c0-4df8-8e29-0b1887ae825e",
   "metadata": {},
   "outputs": [
    {
     "name": "stdout",
     "output_type": "stream",
     "text": [
      "Hello World\n"
     ]
    }
   ],
   "source": [
    "#1. Python output\n",
    "#python is a case sensitive language\n",
    "print('Hello World')\n"
   ]
  },
  {
   "cell_type": "code",
   "execution_count": 5,
   "id": "3b7ccc56-bc91-4850-a67a-e9baec6f877c",
   "metadata": {},
   "outputs": [
    {
     "name": "stdout",
     "output_type": "stream",
     "text": [
      "7\n"
     ]
    }
   ],
   "source": [
    "print(7)"
   ]
  },
  {
   "cell_type": "code",
   "execution_count": 7,
   "id": "bd5c1f70-b7e3-4284-b896-07f729560a3d",
   "metadata": {},
   "outputs": [
    {
     "name": "stdout",
     "output_type": "stream",
     "text": [
      "5.8\n"
     ]
    }
   ],
   "source": [
    "print(5.8)"
   ]
  },
  {
   "cell_type": "code",
   "execution_count": 9,
   "id": "7a11c347-19af-4051-b66f-9125d7a94df9",
   "metadata": {},
   "outputs": [
    {
     "name": "stdout",
     "output_type": "stream",
     "text": [
      "True\n"
     ]
    }
   ],
   "source": [
    "print(True)"
   ]
  },
  {
   "cell_type": "code",
   "execution_count": 11,
   "id": "81c580b6-d007-48e6-9b9c-995c3809d391",
   "metadata": {},
   "outputs": [
    {
     "name": "stdout",
     "output_type": "stream",
     "text": [
      "Rekha Aryal 7 5.8 True\n"
     ]
    }
   ],
   "source": [
    "print(\"Rekha Aryal\" , 7 , 5.8 , True)"
   ]
  },
  {
   "cell_type": "code",
   "execution_count": 13,
   "id": "949470b0-3c63-4b45-8dc8-df2be1a650ac",
   "metadata": {},
   "outputs": [
    {
     "name": "stdout",
     "output_type": "stream",
     "text": [
      "Rekha Aryal/7/5.8/True\n"
     ]
    }
   ],
   "source": [
    "print(\"Rekha Aryal\" , 7 , 5.8 , True , sep='/')"
   ]
  },
  {
   "cell_type": "code",
   "execution_count": 15,
   "id": "63ae0ebb-0415-4f3b-91d3-1db7318e1780",
   "metadata": {},
   "outputs": [
    {
     "name": "stdout",
     "output_type": "stream",
     "text": [
      "Hello\n",
      "World\n"
     ]
    }
   ],
   "source": [
    "print('Hello')\n",
    "print('World')"
   ]
  },
  {
   "cell_type": "code",
   "execution_count": 17,
   "id": "5c1839e8-bfca-4762-9fc8-6d3a2baf64a5",
   "metadata": {},
   "outputs": [
    {
     "name": "stdout",
     "output_type": "stream",
     "text": [
      "Hello_World\n"
     ]
    }
   ],
   "source": [
    "print('Hello' , end = '_')\n",
    "print('World')"
   ]
  },
  {
   "cell_type": "code",
   "execution_count": null,
   "id": "f6f03d85-032f-492e-bc0e-46cd90ccdc3d",
   "metadata": {},
   "outputs": [],
   "source": [
    "#2. Data Types"
   ]
  },
  {
   "cell_type": "code",
   "execution_count": 19,
   "id": "750b58ca-7b32-4b24-b026-4c40c5a113a4",
   "metadata": {},
   "outputs": [
    {
     "name": "stdout",
     "output_type": "stream",
     "text": [
      "8\n",
      "inf\n"
     ]
    }
   ],
   "source": [
    "#integer\n",
    "print(8)\n",
    "#1*10^308\n",
    "print(1e309)"
   ]
  },
  {
   "cell_type": "code",
   "execution_count": 21,
   "id": "66bb5afa-5861-4404-9043-ea234cb2e9a7",
   "metadata": {},
   "outputs": [
    {
     "name": "stdout",
     "output_type": "stream",
     "text": [
      "5.8\n",
      "inf\n"
     ]
    }
   ],
   "source": [
    "#Decimal / float\n",
    "print(5.8)\n",
    "print(1.7e309)"
   ]
  },
  {
   "cell_type": "code",
   "execution_count": 25,
   "id": "f44782db-e1d1-452b-8c1f-842a1fd9b6e7",
   "metadata": {},
   "outputs": [
    {
     "name": "stdout",
     "output_type": "stream",
     "text": [
      "True\n",
      "False\n"
     ]
    }
   ],
   "source": [
    "#Boolean\n",
    "print(True)\n",
    "print(False)"
   ]
  },
  {
   "cell_type": "code",
   "execution_count": 27,
   "id": "1db89381-6461-4182-b229-5502318f17ea",
   "metadata": {},
   "outputs": [
    {
     "name": "stdout",
     "output_type": "stream",
     "text": [
      "Rekha Aryal\n"
     ]
    }
   ],
   "source": [
    "#Text/String\n",
    "print(\"Rekha Aryal\")"
   ]
  },
  {
   "cell_type": "code",
   "execution_count": 29,
   "id": "e42d02b8-f4e7-49b9-b3d4-03c8bc8bd2b6",
   "metadata": {},
   "outputs": [
    {
     "name": "stdout",
     "output_type": "stream",
     "text": [
      "(5+6j)\n"
     ]
    }
   ],
   "source": [
    "#complex\n",
    "print(5+6j)"
   ]
  },
  {
   "cell_type": "code",
   "execution_count": 31,
   "id": "2ad6dc2b-119b-448b-b77e-cca95955d7b0",
   "metadata": {},
   "outputs": [
    {
     "name": "stdout",
     "output_type": "stream",
     "text": [
      "[1, 3, 4, 2, 5]\n"
     ]
    }
   ],
   "source": [
    "#List   C-> Array\n",
    "print([1,3,4,2,5])"
   ]
  },
  {
   "cell_type": "code",
   "execution_count": 33,
   "id": "b843533d-433e-40b3-befa-40dc341338e0",
   "metadata": {},
   "outputs": [
    {
     "name": "stdout",
     "output_type": "stream",
     "text": [
      "(1, 2, 3, 4, 5)\n"
     ]
    }
   ],
   "source": [
    "#Tuple\n",
    "print((1,2,3,4,5))"
   ]
  },
  {
   "cell_type": "code",
   "execution_count": 35,
   "id": "fc418e93-34d5-48f7-92c2-2bf248c18cc0",
   "metadata": {},
   "outputs": [
    {
     "name": "stdout",
     "output_type": "stream",
     "text": [
      "{1, 2, 3, 4}\n"
     ]
    }
   ],
   "source": [
    "#set\n",
    "print({1,2,3,4})"
   ]
  },
  {
   "cell_type": "code",
   "execution_count": 39,
   "id": "581b7dfe-cffc-4814-8951-1b4972db2bb0",
   "metadata": {},
   "outputs": [
    {
     "name": "stdout",
     "output_type": "stream",
     "text": [
      "{'name': 'Rekha', ' age': 23, 'Gender': 'Female'}\n"
     ]
    }
   ],
   "source": [
    "#Dictionary\n",
    "print({'name' :\"Rekha\" ,' age' : 23 , 'Gender' : \"Female\" })"
   ]
  },
  {
   "cell_type": "code",
   "execution_count": 45,
   "id": "f9cf5eec-187d-489f-b3f0-95ad35814384",
   "metadata": {},
   "outputs": [
    {
     "data": {
      "text/plain": [
       "complex"
      ]
     },
     "execution_count": 45,
     "metadata": {},
     "output_type": "execute_result"
    }
   ],
   "source": [
    "#type\n",
    "type(4+2j)"
   ]
  },
  {
   "cell_type": "code",
   "execution_count": null,
   "id": "8cdf26b6-7fa5-4417-b05e-aa9e3ae0d85d",
   "metadata": {},
   "outputs": [],
   "source": [
    "#3. Variables : containers for future use"
   ]
  },
  {
   "cell_type": "code",
   "execution_count": 49,
   "id": "b55a1841-8ced-443a-a33c-377a0d212988",
   "metadata": {},
   "outputs": [
    {
     "name": "stdout",
     "output_type": "stream",
     "text": [
      "Rekha\n"
     ]
    }
   ],
   "source": [
    "name = \"Rekha\"\n",
    "print(name)"
   ]
  },
  {
   "cell_type": "code",
   "execution_count": 51,
   "id": "489cc2eb-b00b-4c8f-8369-fc6bcc1ed548",
   "metadata": {},
   "outputs": [
    {
     "name": "stdout",
     "output_type": "stream",
     "text": [
      "8\n"
     ]
    }
   ],
   "source": [
    "a = 3\n",
    "b = 5\n",
    "print (a+b)"
   ]
  },
  {
   "cell_type": "code",
   "execution_count": 53,
   "id": "0b0aeaa5-676f-4925-9a14-de13312807ad",
   "metadata": {},
   "outputs": [
    {
     "name": "stdout",
     "output_type": "stream",
     "text": [
      "3\n"
     ]
    }
   ],
   "source": [
    "#Dynamic Typing : when creating a variable we donot tell the  data type\n",
    "a = 3\n",
    "print (a)\n",
    "#static Typing\n",
    "int b = 6\n"
   ]
  },
  {
   "cell_type": "code",
   "execution_count": 55,
   "id": "da501d35-e33e-4bb8-a83a-26e5d1f21587",
   "metadata": {},
   "outputs": [
    {
     "data": {
      "text/plain": [
       "int"
      ]
     },
     "execution_count": 55,
     "metadata": {},
     "output_type": "execute_result"
    }
   ],
   "source": [
    "type (a)"
   ]
  },
  {
   "cell_type": "code",
   "execution_count": 57,
   "id": "bc58cc03-36e2-4b73-ba24-ef50a5a4b02b",
   "metadata": {},
   "outputs": [
    {
     "name": "stdout",
     "output_type": "stream",
     "text": [
      "5\n",
      "Rekha\n"
     ]
    }
   ],
   "source": [
    "# Dynamic Binding\n",
    "a= 5\n",
    "print (a)\n",
    "a = \"Rekha\"\n",
    "print (a)\n"
   ]
  },
  {
   "cell_type": "code",
   "execution_count": 59,
   "id": "2e82483d-fb30-4964-b151-2cf998b2a71b",
   "metadata": {},
   "outputs": [
    {
     "name": "stdout",
     "output_type": "stream",
     "text": [
      "7\n"
     ]
    }
   ],
   "source": [
    "a, b,c = 1,2,4\n",
    "print (a+b+c)"
   ]
  },
  {
   "cell_type": "code",
   "execution_count": 61,
   "id": "0487092a-e065-432f-bf19-47f7d92f97e4",
   "metadata": {},
   "outputs": [
    {
     "name": "stdout",
     "output_type": "stream",
     "text": [
      "5 5 5\n"
     ]
    }
   ],
   "source": [
    "a=b=c = 5\n",
    "print(a , b, c)"
   ]
  },
  {
   "cell_type": "code",
   "execution_count": null,
   "id": "210eea2e-358c-4cff-84ca-1330df003b62",
   "metadata": {},
   "outputs": [],
   "source": []
  }
 ],
 "metadata": {
  "kernelspec": {
   "display_name": "Python 3 (ipykernel)",
   "language": "python",
   "name": "python3"
  },
  "language_info": {
   "codemirror_mode": {
    "name": "ipython",
    "version": 3
   },
   "file_extension": ".py",
   "mimetype": "text/x-python",
   "name": "python",
   "nbconvert_exporter": "python",
   "pygments_lexer": "ipython3",
   "version": "3.12.7"
  }
 },
 "nbformat": 4,
 "nbformat_minor": 5
}
