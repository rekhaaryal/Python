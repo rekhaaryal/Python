{
 "cells": [
  {
   "cell_type": "markdown",
   "id": "94ddd077-6586-4788-9880-eb4972f46e56",
   "metadata": {},
   "source": [
    "# Python output"
   ]
  },
  {
   "cell_type": "code",
   "execution_count": null,
   "id": "8460c00a-c42f-4ca2-9140-33ae003c1dce",
   "metadata": {},
   "outputs": [],
   "source": [
    "#python is a case sensitive language\n",
    "print('Hello World')\n"
   ]
  },
  {
   "cell_type": "code",
   "execution_count": 5,
   "id": "3b7ccc56-bc91-4850-a67a-e9baec6f877c",
   "metadata": {},
   "outputs": [
    {
     "name": "stdout",
     "output_type": "stream",
     "text": [
      "7\n"
     ]
    }
   ],
   "source": [
    "print(7)"
   ]
  },
  {
   "cell_type": "code",
   "execution_count": 7,
   "id": "bd5c1f70-b7e3-4284-b896-07f729560a3d",
   "metadata": {},
   "outputs": [
    {
     "name": "stdout",
     "output_type": "stream",
     "text": [
      "5.8\n"
     ]
    }
   ],
   "source": [
    "print(5.8)"
   ]
  },
  {
   "cell_type": "code",
   "execution_count": 9,
   "id": "7a11c347-19af-4051-b66f-9125d7a94df9",
   "metadata": {},
   "outputs": [
    {
     "name": "stdout",
     "output_type": "stream",
     "text": [
      "True\n"
     ]
    }
   ],
   "source": [
    "print(True)"
   ]
  },
  {
   "cell_type": "code",
   "execution_count": 11,
   "id": "81c580b6-d007-48e6-9b9c-995c3809d391",
   "metadata": {},
   "outputs": [
    {
     "name": "stdout",
     "output_type": "stream",
     "text": [
      "Rekha Aryal 7 5.8 True\n"
     ]
    }
   ],
   "source": [
    "print(\"Rekha Aryal\" , 7 , 5.8 , True)"
   ]
  },
  {
   "cell_type": "code",
   "execution_count": 13,
   "id": "949470b0-3c63-4b45-8dc8-df2be1a650ac",
   "metadata": {},
   "outputs": [
    {
     "name": "stdout",
     "output_type": "stream",
     "text": [
      "Rekha Aryal/7/5.8/True\n"
     ]
    }
   ],
   "source": [
    "print(\"Rekha Aryal\" , 7 , 5.8 , True , sep='/')"
   ]
  },
  {
   "cell_type": "code",
   "execution_count": 15,
   "id": "63ae0ebb-0415-4f3b-91d3-1db7318e1780",
   "metadata": {},
   "outputs": [
    {
     "name": "stdout",
     "output_type": "stream",
     "text": [
      "Hello\n",
      "World\n"
     ]
    }
   ],
   "source": [
    "print('Hello')\n",
    "print('World')"
   ]
  },
  {
   "cell_type": "code",
   "execution_count": 17,
   "id": "5c1839e8-bfca-4762-9fc8-6d3a2baf64a5",
   "metadata": {},
   "outputs": [
    {
     "name": "stdout",
     "output_type": "stream",
     "text": [
      "Hello_World\n"
     ]
    }
   ],
   "source": [
    "print('Hello' , end = '_')\n",
    "print('World')"
   ]
  },
  {
   "cell_type": "markdown",
   "id": "7073c238-179f-46ef-b06c-88260b3a05ca",
   "metadata": {},
   "source": [
    "# Data Types"
   ]
  },
  {
   "cell_type": "code",
   "execution_count": 19,
   "id": "750b58ca-7b32-4b24-b026-4c40c5a113a4",
   "metadata": {},
   "outputs": [
    {
     "name": "stdout",
     "output_type": "stream",
     "text": [
      "8\n",
      "inf\n"
     ]
    }
   ],
   "source": [
    "#integer\n",
    "print(8)\n",
    "#1*10^308\n",
    "print(1e309)"
   ]
  },
  {
   "cell_type": "code",
   "execution_count": 21,
   "id": "66bb5afa-5861-4404-9043-ea234cb2e9a7",
   "metadata": {},
   "outputs": [
    {
     "name": "stdout",
     "output_type": "stream",
     "text": [
      "5.8\n",
      "inf\n"
     ]
    }
   ],
   "source": [
    "#Decimal / float\n",
    "print(5.8)\n",
    "print(1.7e309)"
   ]
  },
  {
   "cell_type": "code",
   "execution_count": 25,
   "id": "f44782db-e1d1-452b-8c1f-842a1fd9b6e7",
   "metadata": {},
   "outputs": [
    {
     "name": "stdout",
     "output_type": "stream",
     "text": [
      "True\n",
      "False\n"
     ]
    }
   ],
   "source": [
    "#Boolean\n",
    "print(True)\n",
    "print(False)"
   ]
  },
  {
   "cell_type": "code",
   "execution_count": 27,
   "id": "1db89381-6461-4182-b229-5502318f17ea",
   "metadata": {},
   "outputs": [
    {
     "name": "stdout",
     "output_type": "stream",
     "text": [
      "Rekha Aryal\n"
     ]
    }
   ],
   "source": [
    "#Text/String\n",
    "print(\"Rekha Aryal\")"
   ]
  },
  {
   "cell_type": "code",
   "execution_count": 29,
   "id": "e42d02b8-f4e7-49b9-b3d4-03c8bc8bd2b6",
   "metadata": {},
   "outputs": [
    {
     "name": "stdout",
     "output_type": "stream",
     "text": [
      "(5+6j)\n"
     ]
    }
   ],
   "source": [
    "#complex\n",
    "print(5+6j)"
   ]
  },
  {
   "cell_type": "code",
   "execution_count": 31,
   "id": "2ad6dc2b-119b-448b-b77e-cca95955d7b0",
   "metadata": {},
   "outputs": [
    {
     "name": "stdout",
     "output_type": "stream",
     "text": [
      "[1, 3, 4, 2, 5]\n"
     ]
    }
   ],
   "source": [
    "#List   C-> Array\n",
    "print([1,3,4,2,5])"
   ]
  },
  {
   "cell_type": "code",
   "execution_count": 73,
   "id": "c4ccb5b0-2412-463f-8d8d-110b69db293b",
   "metadata": {},
   "outputs": [
    {
     "name": "stdout",
     "output_type": "stream",
     "text": [
      "[1, 2, 'Rekha', 1.4, True, 2, 1, 1.4]\n"
     ]
    },
    {
     "data": {
      "text/plain": [
       "list"
      ]
     },
     "execution_count": 73,
     "metadata": {},
     "output_type": "execute_result"
    }
   ],
   "source": [
    "list_variable = [1 , 2 ,'Rekha' , 1.4 , True ,2,1,1.4]\n",
    "print(list_variable)\n",
    "type(list_variable)"
   ]
  },
  {
   "cell_type": "code",
   "execution_count": 45,
   "id": "396e8a83-5487-4bca-a66f-d76a203eb4e5",
   "metadata": {},
   "outputs": [],
   "source": [
    "list_variable[3] = 'assigning different value'"
   ]
  },
  {
   "cell_type": "code",
   "execution_count": 47,
   "id": "2fb7f80b-c646-448f-bdbf-aefcbaf420a8",
   "metadata": {},
   "outputs": [
    {
     "data": {
      "text/plain": [
       "[1, 2, 'Rekha', 'assigning different value', True]"
      ]
     },
     "execution_count": 47,
     "metadata": {},
     "output_type": "execute_result"
    }
   ],
   "source": [
    "list_variable"
   ]
  },
  {
   "cell_type": "code",
   "execution_count": 33,
   "id": "b843533d-433e-40b3-befa-40dc341338e0",
   "metadata": {},
   "outputs": [
    {
     "name": "stdout",
     "output_type": "stream",
     "text": [
      "(1, 2, 3.4, True)\n"
     ]
    },
    {
     "data": {
      "text/plain": [
       "tuple"
      ]
     },
     "execution_count": 33,
     "metadata": {},
     "output_type": "execute_result"
    }
   ],
   "source": [
    "#Tuple : A tuple is denoted by a series of values wrapped in parenthesis() .\n",
    "## core difference between list and tuple is that tuple is immutable(can't be change).\n",
    "# used in computer vision\n",
    "tuple_variable = (1 , 2, 3.4 , True)\n",
    "type(tuple_variable)\n",
    "print(tuple_variable)\n",
    "type(tuple_variable)"
   ]
  },
  {
   "cell_type": "code",
   "execution_count": 49,
   "id": "9245eac1-bddf-4075-a36e-84b32b6915e4",
   "metadata": {},
   "outputs": [
    {
     "data": {
      "text/plain": [
       "True"
      ]
     },
     "execution_count": 49,
     "metadata": {},
     "output_type": "execute_result"
    }
   ],
   "source": [
    "tuple_variable[3]"
   ]
  },
  {
   "cell_type": "code",
   "execution_count": 51,
   "id": "b4cf5277-9668-4e3f-bc65-df193ac0c235",
   "metadata": {},
   "outputs": [
    {
     "ename": "TypeError",
     "evalue": "'tuple' object does not support item assignment",
     "output_type": "error",
     "traceback": [
      "\u001b[1;31m---------------------------------------------------------------------------\u001b[0m",
      "\u001b[1;31mTypeError\u001b[0m                                 Traceback (most recent call last)",
      "Cell \u001b[1;32mIn[51], line 1\u001b[0m\n\u001b[1;32m----> 1\u001b[0m tuple_variable[\u001b[38;5;241m3\u001b[39m] \u001b[38;5;241m=\u001b[39m \u001b[38;5;124m'\u001b[39m\u001b[38;5;124mError\u001b[39m\u001b[38;5;124m'\u001b[39m\n",
      "\u001b[1;31mTypeError\u001b[0m: 'tuple' object does not support item assignment"
     ]
    }
   ],
   "source": [
    "tuple_variable[3] = 'Error' # immutable : we can't change value"
   ]
  },
  {
   "cell_type": "code",
   "execution_count": 59,
   "id": "fc418e93-34d5-48f7-92c2-2bf248c18cc0",
   "metadata": {},
   "outputs": [
    {
     "data": {
      "text/plain": [
       "set"
      ]
     },
     "execution_count": 59,
     "metadata": {},
     "output_type": "execute_result"
    }
   ],
   "source": [
    "#set : immutable , no dublicate value\n",
    "set_variable = {1, 'Rekha' , 2.3 , 5 , 1}\n",
    "type(set_variable)"
   ]
  },
  {
   "cell_type": "code",
   "execution_count": 61,
   "id": "072b2d44-5858-4e51-9e87-cc7b3869daed",
   "metadata": {},
   "outputs": [
    {
     "data": {
      "text/plain": [
       "{1, 2.3, 5, 'Rekha'}"
      ]
     },
     "execution_count": 61,
     "metadata": {},
     "output_type": "execute_result"
    }
   ],
   "source": [
    "set_variable # it doesnot contain duplicate value"
   ]
  },
  {
   "cell_type": "code",
   "execution_count": 57,
   "id": "676ecd77-fcef-4f7d-8e76-cf1ded58279e",
   "metadata": {},
   "outputs": [
    {
     "ename": "TypeError",
     "evalue": "'set' object does not support item assignment",
     "output_type": "error",
     "traceback": [
      "\u001b[1;31m---------------------------------------------------------------------------\u001b[0m",
      "\u001b[1;31mTypeError\u001b[0m                                 Traceback (most recent call last)",
      "Cell \u001b[1;32mIn[57], line 1\u001b[0m\n\u001b[1;32m----> 1\u001b[0m set_variable[\u001b[38;5;241m3\u001b[39m] \u001b[38;5;241m=\u001b[39m \u001b[38;5;241m432\u001b[39m\n",
      "\u001b[1;31mTypeError\u001b[0m: 'set' object does not support item assignment"
     ]
    }
   ],
   "source": [
    "set_variable[3] = 432 # immutable , "
   ]
  },
  {
   "cell_type": "code",
   "execution_count": 79,
   "id": "130336bd-5bf4-47ba-b6be-82c74214c675",
   "metadata": {},
   "outputs": [
    {
     "data": {
      "text/plain": [
       "list"
      ]
     },
     "execution_count": 79,
     "metadata": {},
     "output_type": "execute_result"
    }
   ],
   "source": [
    "# Type casting list to set and back to list to get rid of duplicate\n",
    "type(list(set(list_variable)))"
   ]
  },
  {
   "cell_type": "code",
   "execution_count": 105,
   "id": "581b7dfe-cffc-4814-8951-1b4972db2bb0",
   "metadata": {},
   "outputs": [
    {
     "data": {
      "text/plain": [
       "dict"
      ]
     },
     "execution_count": 105,
     "metadata": {},
     "output_type": "execute_result"
    }
   ],
   "source": [
    "#Dictionary : A Dictionary is a set of key value pairs wrapped ina curl braces {} . \n",
    "#They are used a lot ! for eg: mapping a number of columns (key) in a dataset to the datapoints(values)\n",
    "dict_variable = {'name' :\"Rekha\" ,' age' : 24 , 'Gender' : \"Female\" }\n",
    "type(dict_variable"
   ]
  },
  {
   "cell_type": "markdown",
   "id": "e96fe869-54a3-486d-b86b-cab3f78f47b2",
   "metadata": {},
   "source": [
    "# 2.Lists"
   ]
  },
  {
   "cell_type": "code",
   "execution_count": 4,
   "id": "b867bcef-cecb-497b-bba8-429017865a7f",
   "metadata": {},
   "outputs": [],
   "source": [
    "#Create\n",
    "AryalFamilyNames = ['Rekha Aryal','Rama Aryal','Roshan Aryal' , 'Tej Prasad Aryal' , 'Kalpana Aryal']"
   ]
  },
  {
   "cell_type": "code",
   "execution_count": 6,
   "id": "7717b682-1b36-4432-a65d-621f3a90ff14",
   "metadata": {},
   "outputs": [
    {
     "data": {
      "text/plain": [
       "['Rekha Aryal',\n",
       " 'Rama Aryal',\n",
       " 'Roshan Aryal',\n",
       " 'Tej Prasad Aryal',\n",
       " 'Kalpana Aryal']"
      ]
     },
     "execution_count": 6,
     "metadata": {},
     "output_type": "execute_result"
    }
   ],
   "source": [
    "#Read\n",
    "AryalFamilyNames"
   ]
  },
  {
   "cell_type": "code",
   "execution_count": 8,
   "id": "ec23d9c7-b1e8-4628-a4bb-346197b4507e",
   "metadata": {},
   "outputs": [
    {
     "data": {
      "text/plain": [
       "'Tej Prasad Aryal'"
      ]
     },
     "execution_count": 8,
     "metadata": {},
     "output_type": "execute_result"
    }
   ],
   "source": [
    "#Reading using indexing\n",
    "AryalFamilyNames[3]"
   ]
  },
  {
   "cell_type": "code",
   "execution_count": 10,
   "id": "dfc0cada-e636-4270-b857-7a5255fad0d4",
   "metadata": {},
   "outputs": [
    {
     "data": {
      "text/plain": [
       "'Kalpana Aryal'"
      ]
     },
     "execution_count": 10,
     "metadata": {},
     "output_type": "execute_result"
    }
   ],
   "source": [
    "AryalFamilyNames[-1]"
   ]
  },
  {
   "cell_type": "code",
   "execution_count": 12,
   "id": "0edee03b-8a85-42a7-9200-a91dd1a06017",
   "metadata": {},
   "outputs": [
    {
     "data": {
      "text/plain": [
       "5"
      ]
     },
     "execution_count": 12,
     "metadata": {},
     "output_type": "execute_result"
    }
   ],
   "source": [
    "len(AryalFamilyNames)"
   ]
  },
  {
   "cell_type": "code",
   "execution_count": 14,
   "id": "74a5fb36-ced1-4482-9699-ab1ef4650039",
   "metadata": {},
   "outputs": [],
   "source": [
    "#Update\n",
    "AryalFamilyNames[3] = 'Shyam Aryal'"
   ]
  },
  {
   "cell_type": "code",
   "execution_count": 16,
   "id": "db97cdd8-ff23-4407-9e3e-e3320a9e8486",
   "metadata": {},
   "outputs": [
    {
     "data": {
      "text/plain": [
       "['Rekha Aryal', 'Rama Aryal', 'Roshan Aryal', 'Shyam Aryal', 'Kalpana Aryal']"
      ]
     },
     "execution_count": 16,
     "metadata": {},
     "output_type": "execute_result"
    }
   ],
   "source": [
    "AryalFamilyNames"
   ]
  },
  {
   "cell_type": "code",
   "execution_count": 18,
   "id": "aa9b4abe-998d-4e5e-aecb-938c21678eb5",
   "metadata": {},
   "outputs": [],
   "source": [
    "AryalFamilyNames.append('Tej Prasad Aryal')"
   ]
  },
  {
   "cell_type": "code",
   "execution_count": 20,
   "id": "69df9184-23c0-4d2f-901b-71b35c6fe6c6",
   "metadata": {},
   "outputs": [
    {
     "data": {
      "text/plain": [
       "['Rekha Aryal',\n",
       " 'Rama Aryal',\n",
       " 'Roshan Aryal',\n",
       " 'Shyam Aryal',\n",
       " 'Kalpana Aryal',\n",
       " 'Tej Prasad Aryal']"
      ]
     },
     "execution_count": 20,
     "metadata": {},
     "output_type": "execute_result"
    }
   ],
   "source": [
    "AryalFamilyNames"
   ]
  },
  {
   "cell_type": "code",
   "execution_count": 22,
   "id": "654c4a1e-f766-4d9c-a7f6-6e8100649843",
   "metadata": {},
   "outputs": [
    {
     "data": {
      "text/plain": [
       "\u001b[1;31mSignature:\u001b[0m \u001b[0mAryalFamilyNames\u001b[0m\u001b[1;33m.\u001b[0m\u001b[0minsert\u001b[0m\u001b[1;33m(\u001b[0m\u001b[0mindex\u001b[0m\u001b[1;33m,\u001b[0m \u001b[0mobject\u001b[0m\u001b[1;33m,\u001b[0m \u001b[1;33m/\u001b[0m\u001b[1;33m)\u001b[0m\u001b[1;33m\u001b[0m\u001b[1;33m\u001b[0m\u001b[0m\n",
       "\u001b[1;31mDocstring:\u001b[0m Insert object before index.\n",
       "\u001b[1;31mType:\u001b[0m      builtin_function_or_method"
      ]
     },
     "metadata": {},
     "output_type": "display_data"
    }
   ],
   "source": [
    "AryalFamilyNames.insert??"
   ]
  },
  {
   "cell_type": "code",
   "execution_count": 24,
   "id": "b7796a47-1c41-4436-9cc9-aed9b0251101",
   "metadata": {},
   "outputs": [],
   "source": [
    "AryalFamilyNames.insert(0 , 'Amba Aryal' )"
   ]
  },
  {
   "cell_type": "code",
   "execution_count": 26,
   "id": "5fbfe596-568b-4c17-88cc-2f7a7dc083be",
   "metadata": {},
   "outputs": [
    {
     "data": {
      "text/plain": [
       "['Amba Aryal',\n",
       " 'Rekha Aryal',\n",
       " 'Rama Aryal',\n",
       " 'Roshan Aryal',\n",
       " 'Shyam Aryal',\n",
       " 'Kalpana Aryal',\n",
       " 'Tej Prasad Aryal']"
      ]
     },
     "execution_count": 26,
     "metadata": {},
     "output_type": "execute_result"
    }
   ],
   "source": [
    "AryalFamilyNames"
   ]
  },
  {
   "cell_type": "code",
   "execution_count": 28,
   "id": "afea4428-f60d-4997-bd4a-b47198c8c6b8",
   "metadata": {},
   "outputs": [
    {
     "data": {
      "text/plain": [
       "\u001b[1;31mSignature:\u001b[0m \u001b[0mAryalFamilyNames\u001b[0m\u001b[1;33m.\u001b[0m\u001b[0mclear\u001b[0m\u001b[1;33m(\u001b[0m\u001b[1;33m)\u001b[0m\u001b[1;33m\u001b[0m\u001b[1;33m\u001b[0m\u001b[0m\n",
       "\u001b[1;31mDocstring:\u001b[0m Remove all items from list.\n",
       "\u001b[1;31mType:\u001b[0m      builtin_function_or_method"
      ]
     },
     "metadata": {},
     "output_type": "display_data"
    }
   ],
   "source": [
    "AryalFamilyNames.clear??"
   ]
  },
  {
   "cell_type": "code",
   "execution_count": 30,
   "id": "dee3564a-4829-4391-85ef-9754ea9bc831",
   "metadata": {},
   "outputs": [
    {
     "data": {
      "text/plain": [
       "\u001b[1;31mSignature:\u001b[0m \u001b[0mAryalFamilyNames\u001b[0m\u001b[1;33m.\u001b[0m\u001b[0mcount\u001b[0m\u001b[1;33m(\u001b[0m\u001b[0mvalue\u001b[0m\u001b[1;33m,\u001b[0m \u001b[1;33m/\u001b[0m\u001b[1;33m)\u001b[0m\u001b[1;33m\u001b[0m\u001b[1;33m\u001b[0m\u001b[0m\n",
       "\u001b[1;31mDocstring:\u001b[0m Return number of occurrences of value.\n",
       "\u001b[1;31mType:\u001b[0m      builtin_function_or_method"
      ]
     },
     "metadata": {},
     "output_type": "display_data"
    }
   ],
   "source": [
    "AryalFamilyNames.count??"
   ]
  },
  {
   "cell_type": "code",
   "execution_count": 32,
   "id": "b5349240-bdf3-4c31-bd7b-73687e2392ff",
   "metadata": {},
   "outputs": [],
   "source": [
    "#delete"
   ]
  },
  {
   "cell_type": "code",
   "execution_count": 40,
   "id": "1448d965-4944-4704-9b30-8ac30ebec836",
   "metadata": {},
   "outputs": [
    {
     "data": {
      "text/plain": [
       "['Amba Aryal',\n",
       " 'Rekha Aryal',\n",
       " 'Shyam Aryal',\n",
       " 'Kalpana Aryal',\n",
       " 'Tej Prasad Aryal']"
      ]
     },
     "execution_count": 40,
     "metadata": {},
     "output_type": "execute_result"
    }
   ],
   "source": [
    "AryalFamilyNames"
   ]
  },
  {
   "cell_type": "code",
   "execution_count": 42,
   "id": "c1749b98-184b-4c2d-8fc5-af9167afe229",
   "metadata": {},
   "outputs": [],
   "source": [
    " del AryalFamilyNames[2]"
   ]
  },
  {
   "cell_type": "code",
   "execution_count": 44,
   "id": "1f5a27ab-ca12-4015-ab41-7a3c8b58f7a6",
   "metadata": {},
   "outputs": [
    {
     "data": {
      "text/plain": [
       "['Amba Aryal', 'Rekha Aryal', 'Kalpana Aryal', 'Tej Prasad Aryal']"
      ]
     },
     "execution_count": 44,
     "metadata": {},
     "output_type": "execute_result"
    }
   ],
   "source": [
    "AryalFamilyNames"
   ]
  },
  {
   "cell_type": "markdown",
   "id": "be59895d-2294-4b87-b45b-957e36a56a01",
   "metadata": {},
   "source": [
    "# 3. Dictionaries"
   ]
  },
  {
   "cell_type": "code",
   "execution_count": 49,
   "id": "bd00b9ff-fdc8-4efd-b5b4-0b228444c625",
   "metadata": {},
   "outputs": [],
   "source": [
    "#Create\n",
    "astronaut = {\n",
    "    \"name\" : \"Elon mask\" ,\n",
    "    \"suit_size\" : \"large\" ,\n",
    "    \"allergies\" : \"Peanuts\"\n",
    "}"
   ]
  },
  {
   "cell_type": "code",
   "execution_count": 53,
   "id": "9e6361c5-2b89-4219-9c8f-31a8eb3f687b",
   "metadata": {},
   "outputs": [
    {
     "data": {
      "text/plain": [
       "{'name': 'Elon mask', 'suit_size': 'large', 'allergies': 'Peanuts'}"
      ]
     },
     "execution_count": 53,
     "metadata": {},
     "output_type": "execute_result"
    }
   ],
   "source": [
    "#read\n",
    "astronaut"
   ]
  },
  {
   "cell_type": "code",
   "execution_count": 55,
   "id": "b3511611-c411-45f9-bd01-24974cb1e3ff",
   "metadata": {},
   "outputs": [
    {
     "data": {
      "text/plain": [
       "'Elon mask'"
      ]
     },
     "execution_count": 55,
     "metadata": {},
     "output_type": "execute_result"
    }
   ],
   "source": [
    "astronaut[\"name\"]"
   ]
  },
  {
   "cell_type": "code",
   "execution_count": 59,
   "id": "2d5a835d-2fd9-4299-a48b-1d8e9507ddbd",
   "metadata": {},
   "outputs": [
    {
     "data": {
      "text/plain": [
       "dict_keys(['name', 'suit_size', 'allergies'])"
      ]
     },
     "execution_count": 59,
     "metadata": {},
     "output_type": "execute_result"
    }
   ],
   "source": [
    "astronaut.keys()"
   ]
  },
  {
   "cell_type": "code",
   "execution_count": 61,
   "id": "d1881df4-b727-4f4e-b362-008d47bbe17f",
   "metadata": {},
   "outputs": [
    {
     "data": {
      "text/plain": [
       "['name', 'suit_size', 'allergies']"
      ]
     },
     "execution_count": 61,
     "metadata": {},
     "output_type": "execute_result"
    }
   ],
   "source": [
    "list(astronaut.keys())"
   ]
  },
  {
   "cell_type": "code",
   "execution_count": 65,
   "id": "3ed4cfbf-9a6d-4692-ac72-17a6aac369c3",
   "metadata": {},
   "outputs": [
    {
     "data": {
      "text/plain": [
       "dict_values(['Elon mask', 'large', 'Peanuts'])"
      ]
     },
     "execution_count": 65,
     "metadata": {},
     "output_type": "execute_result"
    }
   ],
   "source": [
    "astronaut.values()"
   ]
  },
  {
   "cell_type": "code",
   "execution_count": 67,
   "id": "7b2bfba2-657d-4533-b76e-057425da6a5a",
   "metadata": {},
   "outputs": [],
   "source": [
    "#update\n",
    "astronaut[\"allergies\"] = 'mango'"
   ]
  },
  {
   "cell_type": "code",
   "execution_count": 69,
   "id": "1ad67ed7-e8e2-451b-bf2e-2bed38b6edd1",
   "metadata": {},
   "outputs": [
    {
     "data": {
      "text/plain": [
       "{'name': 'Elon mask', 'suit_size': 'large', 'allergies': 'mango'}"
      ]
     },
     "execution_count": 69,
     "metadata": {},
     "output_type": "execute_result"
    }
   ],
   "source": [
    "astronaut"
   ]
  },
  {
   "cell_type": "code",
   "execution_count": 71,
   "id": "9df4044f-75ce-4334-92e3-72e424e8f19c",
   "metadata": {},
   "outputs": [],
   "source": [
    "astronaut['space_ship'] = 'Galactic 1'"
   ]
  },
  {
   "cell_type": "code",
   "execution_count": 73,
   "id": "3a4d4031-c9bf-4dc8-9250-2544e9aeca89",
   "metadata": {},
   "outputs": [
    {
     "data": {
      "text/plain": [
       "{'name': 'Elon mask',\n",
       " 'suit_size': 'large',\n",
       " 'allergies': 'mango',\n",
       " 'space_ship': 'Galactic 1'}"
      ]
     },
     "execution_count": 73,
     "metadata": {},
     "output_type": "execute_result"
    }
   ],
   "source": [
    "astronaut"
   ]
  },
  {
   "cell_type": "code",
   "execution_count": null,
   "id": "961d1ec9-1f0c-4e65-86c8-e6adab2221ff",
   "metadata": {},
   "outputs": [],
   "source": [
    "#delete"
   ]
  },
  {
   "cell_type": "code",
   "execution_count": 75,
   "id": "ed41be86-e9ea-4a03-a9b0-7a1b409c4729",
   "metadata": {},
   "outputs": [],
   "source": [
    "del astronaut['space_ship']"
   ]
  },
  {
   "cell_type": "code",
   "execution_count": 77,
   "id": "8e6a0c3e-e8c3-4c3a-bc6b-207796800f5d",
   "metadata": {},
   "outputs": [
    {
     "data": {
      "text/plain": [
       "{'name': 'Elon mask', 'suit_size': 'large', 'allergies': 'mango'}"
      ]
     },
     "execution_count": 77,
     "metadata": {},
     "output_type": "execute_result"
    }
   ],
   "source": [
    "astronaut"
   ]
  },
  {
   "cell_type": "code",
   "execution_count": 95,
   "id": "f9cf5eec-187d-489f-b3f0-95ad35814384",
   "metadata": {},
   "outputs": [
    {
     "data": {
      "text/plain": [
       "complex"
      ]
     },
     "execution_count": 95,
     "metadata": {},
     "output_type": "execute_result"
    }
   ],
   "source": [
    "#type\n",
    "type(4+2j)"
   ]
  },
  {
   "cell_type": "markdown",
   "id": "019c4719-6d3b-4296-b644-00b220dc72f1",
   "metadata": {},
   "source": [
    "# Variables : containers for future use"
   ]
  },
  {
   "cell_type": "code",
   "execution_count": 49,
   "id": "b55a1841-8ced-443a-a33c-377a0d212988",
   "metadata": {},
   "outputs": [
    {
     "name": "stdout",
     "output_type": "stream",
     "text": [
      "Rekha\n"
     ]
    }
   ],
   "source": [
    "name = \"Rekha\"\n",
    "print(name)"
   ]
  },
  {
   "cell_type": "code",
   "execution_count": 51,
   "id": "489cc2eb-b00b-4c8f-8369-fc6bcc1ed548",
   "metadata": {},
   "outputs": [
    {
     "name": "stdout",
     "output_type": "stream",
     "text": [
      "8\n"
     ]
    }
   ],
   "source": [
    "a = 3\n",
    "b = 5\n",
    "print (a+b)"
   ]
  },
  {
   "cell_type": "code",
   "execution_count": 53,
   "id": "0b0aeaa5-676f-4925-9a14-de13312807ad",
   "metadata": {},
   "outputs": [
    {
     "name": "stdout",
     "output_type": "stream",
     "text": [
      "3\n"
     ]
    }
   ],
   "source": [
    "#Dynamic Typing : when creating a variable we donot tell the  data type\n",
    "a = 3\n",
    "print (a)\n",
    "#static Typing\n",
    "int b = 6\n"
   ]
  },
  {
   "cell_type": "code",
   "execution_count": 55,
   "id": "da501d35-e33e-4bb8-a83a-26e5d1f21587",
   "metadata": {},
   "outputs": [
    {
     "data": {
      "text/plain": [
       "int"
      ]
     },
     "execution_count": 55,
     "metadata": {},
     "output_type": "execute_result"
    }
   ],
   "source": [
    "type (a)"
   ]
  },
  {
   "cell_type": "code",
   "execution_count": 57,
   "id": "bc58cc03-36e2-4b73-ba24-ef50a5a4b02b",
   "metadata": {},
   "outputs": [
    {
     "name": "stdout",
     "output_type": "stream",
     "text": [
      "5\n",
      "Rekha\n"
     ]
    }
   ],
   "source": [
    "# Dynamic Binding\n",
    "a= 5\n",
    "print (a)\n",
    "a = \"Rekha\"\n",
    "print (a)\n"
   ]
  },
  {
   "cell_type": "code",
   "execution_count": 59,
   "id": "2e82483d-fb30-4964-b151-2cf998b2a71b",
   "metadata": {},
   "outputs": [
    {
     "name": "stdout",
     "output_type": "stream",
     "text": [
      "7\n"
     ]
    }
   ],
   "source": [
    "a, b,c = 1,2,4\n",
    "print (a+b+c)"
   ]
  },
  {
   "cell_type": "code",
   "execution_count": 61,
   "id": "0487092a-e065-432f-bf19-47f7d92f97e4",
   "metadata": {},
   "outputs": [
    {
     "name": "stdout",
     "output_type": "stream",
     "text": [
      "5 5 5\n"
     ]
    }
   ],
   "source": [
    "a=b=c = 5\n",
    "print(a , b, c)"
   ]
  },
  {
   "cell_type": "code",
   "execution_count": null,
   "id": "a390e755-ccc7-44a6-a865-e36ce23ade37",
   "metadata": {},
   "outputs": [],
   "source": [
    "#comments : this is a comment "
   ]
  },
  {
   "cell_type": "markdown",
   "id": "50958a0c-b387-486d-8f24-d6e87c1aaf71",
   "metadata": {},
   "source": [
    "# Keywords & Identifiers"
   ]
  },
  {
   "cell_type": "code",
   "execution_count": 9,
   "id": "210eea2e-358c-4cff-84ca-1330df003b62",
   "metadata": {},
   "outputs": [
    {
     "name": "stdout",
     "output_type": "stream",
     "text": [
      "Aryal\n"
     ]
    }
   ],
   "source": [
    "\n",
    "#Keywords : in python their are 32 keywords \n",
    "#keywords are the reserved words \n",
    "#Identifiers : Variable , functions , \n",
    "# Rules for creating identifiers :\n",
    "     #it can't start with a digit\n",
    "# 1name = \"rekha\"\n",
    "# print(1num)\n",
    "   # we can use special chars -> _\n",
    "last_name = \"Aryal\"\n",
    "print(last_name)\n",
    "   #identifiers can not be keywords\n",
    "\n"
   ]
  },
  {
   "cell_type": "code",
   "execution_count": 1,
   "id": "11dc33cf-8a7a-4e55-a8b9-2fc49d140789",
   "metadata": {},
   "outputs": [
    {
     "name": "stdin",
     "output_type": "stream",
     "text": [
      " hello\n"
     ]
    },
    {
     "data": {
      "text/plain": [
       "'hello'"
      ]
     },
     "execution_count": 1,
     "metadata": {},
     "output_type": "execute_result"
    }
   ],
   "source": [
    "#5. User Input : built-in  function 'input()' is used\n",
    "input()"
   ]
  },
  {
   "cell_type": "code",
   "execution_count": 3,
   "id": "4901b617-a421-429c-8e10-117b37d0a4cf",
   "metadata": {},
   "outputs": [
    {
     "name": "stdin",
     "output_type": "stream",
     "text": [
      "Enter your name  Rekha Aryal\n"
     ]
    },
    {
     "data": {
      "text/plain": [
       "'Rekha Aryal'"
      ]
     },
     "execution_count": 3,
     "metadata": {},
     "output_type": "execute_result"
    }
   ],
   "source": [
    "input('Enter your name ')"
   ]
  },
  {
   "cell_type": "code",
   "execution_count": 17,
   "id": "6753ac94-d085-4e9f-9b64-09d25a095cf6",
   "metadata": {},
   "outputs": [
    {
     "name": "stdin",
     "output_type": "stream",
     "text": [
      "Enter the 1st number: 23\n",
      "Enter the 2nd number : 32\n"
     ]
    },
    {
     "name": "stdout",
     "output_type": "stream",
     "text": [
      "<class 'str'> <class 'str'>\n"
     ]
    }
   ],
   "source": [
    "# take input from the users and store them ina variable\n",
    "a = input ('Enter the 1st number:')\n",
    "b = input ('Enter the 2nd number :')\n",
    "print(type(a) , type(b)) # string is a universal data format\n",
    "# add the 2 variable \n",
    "sum = a + b\n",
    "#print the result\n",
    "# print(sum)\n",
    "\n"
   ]
  },
  {
   "cell_type": "markdown",
   "id": "a12081e1-7795-49f8-9b2b-6a496cdaa4d3",
   "metadata": {},
   "source": [
    "# Type Conversion : "
   ]
  },
  {
   "cell_type": "code",
   "execution_count": 10,
   "id": "5414ed66-63dd-4627-85eb-5f3b108d03e1",
   "metadata": {},
   "outputs": [],
   "source": [
    "#way to convert one datatype into another datatype \n",
    "# 2 types (Implicit & Explicit)\n",
    "#Implicit :automatically performed by the Python interpreter\n",
    "#Explicit(Type Casting) : the data types of objects are converted using predefined functions by the user"
   ]
  },
  {
   "cell_type": "code",
   "execution_count": 19,
   "id": "734dfed5-c012-4bd7-86cf-4151da465f45",
   "metadata": {},
   "outputs": [
    {
     "name": "stdout",
     "output_type": "stream",
     "text": [
      "5 5.6\n",
      "<class 'int'> <class 'float'>\n"
     ]
    }
   ],
   "source": [
    "#Implicit\n",
    "print(5 , 5.6)\n",
    "print(type(5) , type(5.6))"
   ]
  },
  {
   "cell_type": "code",
   "execution_count": 2,
   "id": "0efb7d6d-03cf-4319-b7a5-1f98abc1d44d",
   "metadata": {},
   "outputs": [
    {
     "data": {
      "text/plain": [
       "4"
      ]
     },
     "execution_count": 2,
     "metadata": {},
     "output_type": "execute_result"
    }
   ],
   "source": [
    "#explicit\n",
    "int(4.5)"
   ]
  },
  {
   "cell_type": "code",
   "execution_count": 6,
   "id": "7aa870d4-a67b-4ecf-b015-79f19f70bf09",
   "metadata": {},
   "outputs": [],
   "source": [
    "# int(4+5j)"
   ]
  },
  {
   "cell_type": "code",
   "execution_count": 8,
   "id": "eaa44188-d609-4bff-ba5a-8379d82cd9a2",
   "metadata": {},
   "outputs": [
    {
     "data": {
      "text/plain": [
       "'4'"
      ]
     },
     "execution_count": 8,
     "metadata": {},
     "output_type": "execute_result"
    }
   ],
   "source": [
    "str(4)"
   ]
  },
  {
   "cell_type": "code",
   "execution_count": 12,
   "id": "84cce331-08ce-4faa-842f-5e9ae0458f28",
   "metadata": {},
   "outputs": [
    {
     "data": {
      "text/plain": [
       "4.0"
      ]
     },
     "execution_count": 12,
     "metadata": {},
     "output_type": "execute_result"
    }
   ],
   "source": [
    "float(4)"
   ]
  },
  {
   "cell_type": "code",
   "execution_count": 24,
   "id": "6de7b5b1-989c-4109-b2b4-bc51c8f13b24",
   "metadata": {},
   "outputs": [
    {
     "name": "stdin",
     "output_type": "stream",
     "text": [
      "Enter the 1st number: 4\n",
      "Enter the 2nd number : 4\n"
     ]
    },
    {
     "name": "stdout",
     "output_type": "stream",
     "text": [
      "8\n"
     ]
    }
   ],
   "source": [
    "# take input from the users and store them ina variable\n",
    "a = input ('Enter the 1st number:')\n",
    "b = input ('Enter the 2nd number :')\n",
    "#print(type(a) , type(b)) # string is a universal data format\n",
    "# add the 2 variable \n",
    "\n",
    "#print the result\n",
    "print(int(a) + int(b))"
   ]
  },
  {
   "cell_type": "markdown",
   "id": "b24bd19c-0075-4c0f-902c-b2b5eec9ca6a",
   "metadata": {},
   "source": [
    "# Literals : raw data given in a variable "
   ]
  },
  {
   "cell_type": "code",
   "execution_count": 38,
   "id": "c3fa2c8f-0b09-4cb3-bf7c-a4c06c8c657a",
   "metadata": {},
   "outputs": [
    {
     "name": "stdout",
     "output_type": "stream",
     "text": [
      "300\n",
      "200\n"
     ]
    }
   ],
   "source": [
    "#numeric literal\n",
    "a = 0b1010 #binary literal\n",
    "b = 100 #decimal literal\n",
    "c = 0o310 #octal literal\n",
    "d = 0x12c #Hexadecimal \n",
    "print(d)\n",
    "print(c)"
   ]
  },
  {
   "cell_type": "code",
   "execution_count": null,
   "id": "6c36bc26-a337-4b96-9903-7de6a8deb3ae",
   "metadata": {},
   "outputs": [],
   "source": [
    "#float literal\n",
    "float_01 = 10.5 \n",
    "float_02 = 1.5e2# 1.5 *10^2\n",
    "float_03 = 1.5e-3#1.5 * 10^-3"
   ]
  },
  {
   "cell_type": "code",
   "execution_count": 40,
   "id": "0265e7fa-0bf5-4f83-8b37-116a48ba4331",
   "metadata": {},
   "outputs": [
    {
     "name": "stdout",
     "output_type": "stream",
     "text": [
      "0.0 3.14\n"
     ]
    }
   ],
   "source": [
    "#complex literal\n",
    "x = 3.14j\n",
    "print(x.real , x.imag)"
   ]
  },
  {
   "cell_type": "code",
   "execution_count": 56,
   "id": "7b559cd6-cd2d-4517-975b-f0e12e7fb3b1",
   "metadata": {},
   "outputs": [
    {
     "name": "stdout",
     "output_type": "stream",
     "text": [
      "hello\n",
      "hello\n",
      "c\n",
      " this is a multiline string \n",
      "😀😄🤣\n",
      "raw \\n string\n"
     ]
    }
   ],
   "source": [
    "#string\n",
    "string = 'hello'\n",
    "strings = \"hello\"\n",
    "char = \"c\"\n",
    "multipleline_str = \"\"\" this is a multiline string \"\"\"\n",
    "unicode = u\"\\U0001f600\\U0001F604\\U0001F923\"\n",
    "raw_str = r\"raw \\n string\"\n",
    "print(string)\n",
    "print(strings)\n",
    "print(char)\n",
    "print(multipleline_str)\n",
    "print(unicode)\n",
    "print(raw_str)\n"
   ]
  },
  {
   "cell_type": "code",
   "execution_count": 5,
   "id": "229dee3f-014b-473a-aaf1-071fa718ef1a",
   "metadata": {},
   "outputs": [
    {
     "name": "stdout",
     "output_type": "stream",
     "text": [
      "5\n",
      "5\n"
     ]
    }
   ],
   "source": [
    "a = True +4\n",
    "b = False + 5\n",
    "print(a)\n",
    "print(b)"
   ]
  },
  {
   "cell_type": "code",
   "execution_count": 7,
   "id": "f9fde413-5f9b-4ea6-b16f-d47cfedca1b2",
   "metadata": {},
   "outputs": [
    {
     "name": "stdout",
     "output_type": "stream",
     "text": [
      "None\n"
     ]
    }
   ],
   "source": [
    "a = None\n",
    "print (a)"
   ]
  },
  {
   "cell_type": "markdown",
   "id": "a61036ee-5996-4099-a390-c5135f797be4",
   "metadata": {},
   "source": [
    "# Conditions and Logic"
   ]
  },
  {
   "cell_type": "code",
   "execution_count": 86,
   "id": "a42d8e32-b37c-456e-baa6-d1845a892fe7",
   "metadata": {},
   "outputs": [
    {
     "name": "stdout",
     "output_type": "stream",
     "text": [
      "whats up Neil\n"
     ]
    }
   ],
   "source": [
    "# Applying logic using the if statement\n",
    "name = 'Neil Armstrong'\n",
    "if name == 'Neil Armstrong' : \n",
    "    print('whats up Neil')\n",
    "    \n"
   ]
  },
  {
   "cell_type": "code",
   "execution_count": 98,
   "id": "149ba668-27cf-41d1-aaaf-eb42776eeea6",
   "metadata": {},
   "outputs": [
    {
     "name": "stdout",
     "output_type": "stream",
     "text": [
      "number is greater than equal to 5\n"
     ]
    }
   ],
   "source": [
    "test_number = 10 \n",
    "if test_number >= 5 :\n",
    "    print ('number is greater than equal to 5' )"
   ]
  },
  {
   "cell_type": "code",
   "execution_count": 106,
   "id": "9077324e-25bc-45c3-9f8a-e33eea93042f",
   "metadata": {},
   "outputs": [
    {
     "name": "stdout",
     "output_type": "stream",
     "text": [
      "False\n"
     ]
    }
   ],
   "source": [
    "# used in probalities \n",
    "probability = 0.4\n",
    "if probability >= 0.5 :\n",
    "    print(True)\n",
    "else:\n",
    "    print(False)"
   ]
  },
  {
   "cell_type": "code",
   "execution_count": 108,
   "id": "8d86104a-fb94-4480-88b8-7e630ffa5cc3",
   "metadata": {},
   "outputs": [
    {
     "name": "stdout",
     "output_type": "stream",
     "text": [
      "check your probability\n"
     ]
    }
   ],
   "source": [
    "probability = -7\n",
    "#probabality greater than 0.5\n",
    "if probability >= 0.5 :\n",
    "    print(True)\n",
    "# Print out a statement if probability is less then 0\n",
    "elif probability < 0 :\n",
    "    print(\"check your probability\")\n",
    "#anything else\n",
    "else:\n",
    "    print(False)"
   ]
  },
  {
   "cell_type": "code",
   "execution_count": 128,
   "id": "ffb715cd-201d-41e9-b9e3-a45f1238597a",
   "metadata": {},
   "outputs": [
    {
     "name": "stdout",
     "output_type": "stream",
     "text": [
      "Rekha Aryal is here\n",
      "Rekha's here\n"
     ]
    }
   ],
   "source": [
    "#creating a list\n",
    "names = ['Rekha Aryal' , 24 , 'student ' ]\n",
    "if 'Rekha Aryal' in names :\n",
    "    print (\"Rekha Aryal is here\")\n",
    "    #using python escape\n",
    "    print('Rekha\\'s here')"
   ]
  },
  {
   "cell_type": "code",
   "execution_count": null,
   "id": "203f38fe-3532-40a1-b33d-c0a5cd08f75b",
   "metadata": {},
   "outputs": [],
   "source": []
  }
 ],
 "metadata": {
  "kernelspec": {
   "display_name": "Python 3 (ipykernel)",
   "language": "python",
   "name": "python3"
  },
  "language_info": {
   "codemirror_mode": {
    "name": "ipython",
    "version": 3
   },
   "file_extension": ".py",
   "mimetype": "text/x-python",
   "name": "python",
   "nbconvert_exporter": "python",
   "pygments_lexer": "ipython3",
   "version": "3.12.7"
  }
 },
 "nbformat": 4,
 "nbformat_minor": 5
}
