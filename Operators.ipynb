{
 "cells": [
  {
   "cell_type": "markdown",
   "id": "089b2632-f764-4dc7-8307-4e56f138be2a",
   "metadata": {},
   "source": [
    "Operators \n",
    "-> Operators are used to perform operations on variables and values .\n",
    "1. Arithmetic Operators.\n",
    "2. Comparison (Relational) Operators.\n",
    "3. Assignment Operators.\n",
    "4. Logical Operators.\n",
    "5. Bitwise Operators.\n",
    "6. Membership Operators.\n",
    "7. Identity Operators."
   ]
  },
  {
   "cell_type": "code",
   "execution_count": 4,
   "id": "77c8a720-a5f7-4080-bb98-c51ca0c6a246",
   "metadata": {},
   "outputs": [
    {
     "name": "stdout",
     "output_type": "stream",
     "text": [
      "10\n"
     ]
    }
   ],
   "source": [
    "#Arithmetic Operators.\n",
    "x = 4\n",
    "y = 6\n",
    "print (x+y)"
   ]
  },
  {
   "cell_type": "code",
   "execution_count": 6,
   "id": "7fa1be8e-b14e-4081-a327-bbb6451152d8",
   "metadata": {},
   "outputs": [
    {
     "name": "stdout",
     "output_type": "stream",
     "text": [
      "-2\n"
     ]
    }
   ],
   "source": [
    "print(x-y)"
   ]
  },
  {
   "cell_type": "code",
   "execution_count": 8,
   "id": "fda93df8-67d2-4d47-b3e0-d148fa341860",
   "metadata": {},
   "outputs": [
    {
     "name": "stdout",
     "output_type": "stream",
     "text": [
      "24\n"
     ]
    }
   ],
   "source": [
    "print(x*y)"
   ]
  },
  {
   "cell_type": "code",
   "execution_count": 10,
   "id": "a5100635-45e4-4969-8718-88914871bb23",
   "metadata": {},
   "outputs": [
    {
     "name": "stdout",
     "output_type": "stream",
     "text": [
      "0.6666666666666666\n"
     ]
    }
   ],
   "source": [
    "print(x/y)"
   ]
  },
  {
   "cell_type": "code",
   "execution_count": 12,
   "id": "e97baddd-55cf-43c2-8d6e-d32ba8b16eaa",
   "metadata": {},
   "outputs": [
    {
     "name": "stdout",
     "output_type": "stream",
     "text": [
      "4\n"
     ]
    }
   ],
   "source": [
    "print(x%y)"
   ]
  },
  {
   "cell_type": "code",
   "execution_count": 14,
   "id": "3799b9c5-0ace-48af-b05c-97535e9edc6d",
   "metadata": {},
   "outputs": [
    {
     "name": "stdout",
     "output_type": "stream",
     "text": [
      "4096\n"
     ]
    }
   ],
   "source": [
    "print(x**y)"
   ]
  },
  {
   "cell_type": "code",
   "execution_count": 16,
   "id": "cde4560c-6560-4ffd-885a-eaa512b7a715",
   "metadata": {},
   "outputs": [
    {
     "name": "stdout",
     "output_type": "stream",
     "text": [
      "0\n"
     ]
    }
   ],
   "source": [
    "print(x//y)"
   ]
  },
  {
   "cell_type": "code",
   "execution_count": 18,
   "id": "5a730caf-642b-4e92-8400-dd7d3ae3f069",
   "metadata": {},
   "outputs": [
    {
     "name": "stdout",
     "output_type": "stream",
     "text": [
      "2\n"
     ]
    }
   ],
   "source": [
    "print(x//2)"
   ]
  },
  {
   "cell_type": "code",
   "execution_count": 21,
   "id": "936c38ee-7c75-474a-93f2-6a5e169fccbb",
   "metadata": {},
   "outputs": [
    {
     "name": "stdout",
     "output_type": "stream",
     "text": [
      "False\n",
      "True\n",
      "True\n",
      "False\n",
      "False\n"
     ]
    }
   ],
   "source": [
    "#Comparison (Relational) Operators.\n",
    "print(x > y)\n",
    "print (x<y)\n",
    "print (x<=y)\n",
    "print(x>=y)\n",
    "print(x==y)"
   ]
  },
  {
   "cell_type": "code",
   "execution_count": 27,
   "id": "ee1fbbab-a0b2-491d-af05-18881d3ef39c",
   "metadata": {},
   "outputs": [
    {
     "name": "stdout",
     "output_type": "stream",
     "text": [
      "False\n",
      "True\n",
      "False\n"
     ]
    }
   ],
   "source": [
    "#Logical Operators.\n",
    "x = False\n",
    "y = True\n",
    "print (x and y)\n",
    "print(x or y)\n",
    "print(not y)"
   ]
  },
  {
   "cell_type": "code",
   "execution_count": 33,
   "id": "f7b7aa53-a44f-4d79-baa6-b53082f8cbc3",
   "metadata": {},
   "outputs": [
    {
     "name": "stdout",
     "output_type": "stream",
     "text": [
      "2\n",
      "3\n",
      "0\n",
      "16\n"
     ]
    }
   ],
   "source": [
    "#Bitwise Operators. used in Image processing \n",
    "x = 3\n",
    "y = 2\n",
    "print (x & y )\n",
    "print (x | y)\n",
    "print (x >> 2)\n",
    "print (y << 3)"
   ]
  },
  {
   "cell_type": "code",
   "execution_count": 47,
   "id": "e282ef83-caef-4a66-888d-65cc06b24a6c",
   "metadata": {},
   "outputs": [
    {
     "name": "stdout",
     "output_type": "stream",
     "text": [
      "4\n",
      "7\n",
      "4\n",
      "0\n"
     ]
    }
   ],
   "source": [
    "#Assignment Operators.\n",
    "a = 4\n",
    "print(a)\n",
    "a +=3\n",
    "print(a)\n",
    "a -= 3\n",
    "print(a)\n",
    "a &=3\n",
    "print(a)\n",
    "\n"
   ]
  },
  {
   "cell_type": "code",
   "execution_count": 49,
   "id": "c0732e9d-dcb0-4d48-84b1-9a2c443b373b",
   "metadata": {},
   "outputs": [
    {
     "name": "stdout",
     "output_type": "stream",
     "text": [
      "True\n"
     ]
    }
   ],
   "source": [
    "# store in same memory location\n",
    "a = 3\n",
    "b = 3\n",
    "print (a is b)"
   ]
  },
  {
   "cell_type": "code",
   "execution_count": 53,
   "id": "7e8c9fa8-d058-479c-a6f4-980173f723c7",
   "metadata": {},
   "outputs": [
    {
     "name": "stdout",
     "output_type": "stream",
     "text": [
      "False\n"
     ]
    }
   ],
   "source": [
    "a = 'hello'\n",
    "b = 'helo'\n",
    "print(a is b)"
   ]
  },
  {
   "cell_type": "code",
   "execution_count": 55,
   "id": "4c1162a2-f933-44f6-9147-a9d53660678d",
   "metadata": {},
   "outputs": [
    {
     "name": "stdout",
     "output_type": "stream",
     "text": [
      "False\n"
     ]
    }
   ],
   "source": [
    "a = [1,2,3]\n",
    "b = [1,2,3]\n",
    "print(a is b)"
   ]
  },
  {
   "cell_type": "code",
   "execution_count": 61,
   "id": "f5b986c7-6350-42c8-8650-f8e611cf5a16",
   "metadata": {},
   "outputs": [
    {
     "name": "stdout",
     "output_type": "stream",
     "text": [
      "False\n"
     ]
    }
   ],
   "source": [
    "a = \"Hello-World\"\n",
    "b = \"Hello-World\"\n",
    "print (a is b)"
   ]
  },
  {
   "cell_type": "code",
   "execution_count": 67,
   "id": "586d28df-8883-4bc3-b465-5faf571b8f4c",
   "metadata": {},
   "outputs": [
    {
     "name": "stdout",
     "output_type": "stream",
     "text": [
      "True\n",
      "False\n"
     ]
    }
   ],
   "source": [
    "#Membership Operators.\n",
    "X = \"Kathmandu\"\n",
    "print(\"K\" in X)\n",
    "print(\"a\" not in X)"
   ]
  },
  {
   "cell_type": "code",
   "execution_count": 71,
   "id": "3e42ce61-3272-45c8-a3f4-3abd85b7ed26",
   "metadata": {},
   "outputs": [
    {
     "name": "stdout",
     "output_type": "stream",
     "text": [
      "True\n"
     ]
    }
   ],
   "source": [
    "x = [1,2,3]\n",
    "print(3 in x)"
   ]
  },
  {
   "cell_type": "code",
   "execution_count": null,
   "id": "e2d3508f-3a70-49bc-88c4-5d260bba096c",
   "metadata": {},
   "outputs": [],
   "source": []
  }
 ],
 "metadata": {
  "kernelspec": {
   "display_name": "Python 3 (ipykernel)",
   "language": "python",
   "name": "python3"
  },
  "language_info": {
   "codemirror_mode": {
    "name": "ipython",
    "version": 3
   },
   "file_extension": ".py",
   "mimetype": "text/x-python",
   "name": "python",
   "nbconvert_exporter": "python",
   "pygments_lexer": "ipython3",
   "version": "3.12.7"
  }
 },
 "nbformat": 4,
 "nbformat_minor": 5
}
